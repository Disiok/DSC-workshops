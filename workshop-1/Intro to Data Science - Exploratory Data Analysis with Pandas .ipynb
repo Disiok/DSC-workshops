{
 "cells": [
  {
   "cell_type": "markdown",
   "metadata": {},
   "source": [
    "<img style=\"float: left; width: 100px;\" src=\"../logo.png\"  alt=\"Drawing\"/>"
   ]
  },
  {
   "cell_type": "markdown",
   "metadata": {},
   "source": [
    "# [Solutions] Intro to Data Science - Exploratory Data Analysis with Pandas \n",
    "\n"
   ]
  },
  {
   "cell_type": "markdown",
   "metadata": {},
   "source": [
    "## Table of Contents:\n",
    "1. ### [Introduction to Data Science](#intro)\n",
    "2. ### [A first look at data](#first)\n",
    "3. ### [More control with select, filter and sort](#more)\n",
    "4. ### [Joins and aggregation](#agg)\n",
    "5. ### [Visualization](#viz)\n",
    "6. ### [Time Series](#time)"
   ]
  },
  {
   "cell_type": "markdown",
   "metadata": {},
   "source": [
    "# 1. Introduction to Data Science <a class=\"anchor\" id=\"intro\"></a>"
   ]
  },
  {
   "cell_type": "markdown",
   "metadata": {},
   "source": [
    "Data science is about creating value from data. This could simply be:\n",
    "1. using the data to answer questions on your mind, \n",
    "2. extracting insights to better allocate resources, or \n",
    "3. automating a task."
   ]
  },
  {
   "cell_type": "markdown",
   "metadata": {},
   "source": [
    "## Data Analysis"
   ]
  },
  {
   "cell_type": "markdown",
   "metadata": {},
   "source": [
    "A fundamental skill for doing data science is data analysis and exploration. Before any kind of modeling, we should understand the data first."
   ]
  },
  {
   "cell_type": "markdown",
   "metadata": {},
   "source": [
    "### What is Pandas?"
   ]
  },
  {
   "cell_type": "markdown",
   "metadata": {},
   "source": [
    "Pandas is an open-source library in Python for data manipulation and analysis.\n",
    "\n",
    "Pandas was built on NumPy, a scientific computation library in Python."
   ]
  },
  {
   "cell_type": "markdown",
   "metadata": {},
   "source": [
    "### What is a DataFrame?\n",
    "In pandas, a DataFrame object is a two-dimensional tabular data structure. You can think of it like a spreadsheet."
   ]
  },
  {
   "cell_type": "code",
   "execution_count": 4,
   "metadata": {},
   "outputs": [],
   "source": [
    "import pandas as pd"
   ]
  },
  {
   "cell_type": "markdown",
   "metadata": {},
   "source": [
    "### Read in data"
   ]
  },
  {
   "cell_type": "markdown",
   "metadata": {},
   "source": [
    "You can load many data from many different sources with pandas (csv, json, html, SQL, excel, ...) but today we are reading from a comma seperated values (csv) file.\n",
    "\n",
    "We are reading the data into a variable named 'df_movies'"
   ]
  },
  {
   "cell_type": "code",
   "execution_count": 6,
   "metadata": {},
   "outputs": [],
   "source": [
    "# .read_csv()"
   ]
  },
  {
   "cell_type": "markdown",
   "metadata": {},
   "source": [
    "# 2. A first look at data  <a class=\"anchor\" id=\"first\"></a>\n",
    "This section will introduce some methods to help us take a high level look of the data."
   ]
  },
  {
   "cell_type": "markdown",
   "metadata": {},
   "source": [
    "In this movie dataset, each row is an observation and each column is an attribute/feature/variable"
   ]
  },
  {
   "cell_type": "code",
   "execution_count": 7,
   "metadata": {},
   "outputs": [],
   "source": [
    "# .shape"
   ]
  },
  {
   "cell_type": "markdown",
   "metadata": {},
   "source": [
    "There are 5043 rows and 38 columns"
   ]
  },
  {
   "cell_type": "markdown",
   "metadata": {},
   "source": [
    "### head() and tail()\n",
    "\n",
    "To look at the first n rows of the DataFrame, we use the head() method. We can specify the number of rows to look at. Default is 5"
   ]
  },
  {
   "cell_type": "code",
   "execution_count": 9,
   "metadata": {},
   "outputs": [],
   "source": [
    "# .head()"
   ]
  },
  {
   "cell_type": "markdown",
   "metadata": {},
   "source": [
    "To look at the last n rows, we use the tail() method."
   ]
  },
  {
   "cell_type": "code",
   "execution_count": 10,
   "metadata": {},
   "outputs": [],
   "source": [
    "# .tail()"
   ]
  },
  {
   "cell_type": "markdown",
   "metadata": {},
   "source": [
    "### List of all column names"
   ]
  },
  {
   "cell_type": "code",
   "execution_count": 13,
   "metadata": {
    "scrolled": true
   },
   "outputs": [],
   "source": [
    "# .columns"
   ]
  },
  {
   "cell_type": "markdown",
   "metadata": {},
   "source": [
    "### Data types\n",
    "\n",
    "Each column in a DataFrame has a data type. "
   ]
  },
  {
   "cell_type": "code",
   "execution_count": 14,
   "metadata": {
    "scrolled": false
   },
   "outputs": [],
   "source": [
    "# .dtypes"
   ]
  },
  {
   "cell_type": "markdown",
   "metadata": {},
   "source": [
    "### Numeric summary"
   ]
  },
  {
   "cell_type": "code",
   "execution_count": 15,
   "metadata": {},
   "outputs": [],
   "source": [
    "# .describe() # for numerical data"
   ]
  },
  {
   "cell_type": "markdown",
   "metadata": {
    "collapsed": true
   },
   "source": [
    "### Missing values\n",
    "\n",
    "Missing values are common in real-world data. In this workshop we will just drop all the rows which contain missing value(s). "
   ]
  },
  {
   "cell_type": "code",
   "execution_count": 16,
   "metadata": {},
   "outputs": [],
   "source": [
    "# .dropna()"
   ]
  },
  {
   "cell_type": "markdown",
   "metadata": {
    "collapsed": true
   },
   "source": [
    "# 3. More control with select, filter and sort   <a class=\"anchor\" id=\"more\"></a>"
   ]
  },
  {
   "cell_type": "markdown",
   "metadata": {},
   "source": [
    "In Pandas, the indexing operators are the square brackets [ ]"
   ]
  },
  {
   "cell_type": "markdown",
   "metadata": {},
   "source": [
    "### Selecting columns"
   ]
  },
  {
   "cell_type": "code",
   "execution_count": 10,
   "metadata": {
    "scrolled": true
   },
   "outputs": [
    {
     "data": {
      "text/plain": [
       "0        James Cameron\n",
       "1       Gore Verbinski\n",
       "2           Sam Mendes\n",
       "3    Christopher Nolan\n",
       "5       Andrew Stanton\n",
       "Name: director_name, dtype: object"
      ]
     },
     "execution_count": 10,
     "metadata": {},
     "output_type": "execute_result"
    }
   ],
   "source": [
    "df_movies['director_name'].head()"
   ]
  },
  {
   "cell_type": "markdown",
   "metadata": {},
   "source": [
    "We can also use the attribute operator (.)"
   ]
  },
  {
   "cell_type": "code",
   "execution_count": 11,
   "metadata": {},
   "outputs": [
    {
     "data": {
      "text/plain": [
       "0        James Cameron\n",
       "1       Gore Verbinski\n",
       "2           Sam Mendes\n",
       "3    Christopher Nolan\n",
       "5       Andrew Stanton\n",
       "Name: director_name, dtype: object"
      ]
     },
     "execution_count": 11,
     "metadata": {},
     "output_type": "execute_result"
    }
   ],
   "source": [
    "df_movies.director_name.head()"
   ]
  },
  {
   "cell_type": "markdown",
   "metadata": {},
   "source": [
    "To select multiple columns, we have to put the column names in a list within the indexing operator"
   ]
  },
  {
   "cell_type": "code",
   "execution_count": 12,
   "metadata": {
    "scrolled": true
   },
   "outputs": [
    {
     "data": {
      "text/html": [
       "<div>\n",
       "<table border=\"1\" class=\"dataframe\">\n",
       "  <thead>\n",
       "    <tr style=\"text-align: right;\">\n",
       "      <th></th>\n",
       "      <th>director_name</th>\n",
       "      <th>movie_title</th>\n",
       "    </tr>\n",
       "  </thead>\n",
       "  <tbody>\n",
       "    <tr>\n",
       "      <th>0</th>\n",
       "      <td>James Cameron</td>\n",
       "      <td>Avatar</td>\n",
       "    </tr>\n",
       "    <tr>\n",
       "      <th>1</th>\n",
       "      <td>Gore Verbinski</td>\n",
       "      <td>Pirates of the Caribbean: At World's End</td>\n",
       "    </tr>\n",
       "    <tr>\n",
       "      <th>2</th>\n",
       "      <td>Sam Mendes</td>\n",
       "      <td>Spectre</td>\n",
       "    </tr>\n",
       "    <tr>\n",
       "      <th>3</th>\n",
       "      <td>Christopher Nolan</td>\n",
       "      <td>The Dark Knight Rises</td>\n",
       "    </tr>\n",
       "    <tr>\n",
       "      <th>5</th>\n",
       "      <td>Andrew Stanton</td>\n",
       "      <td>John Carter</td>\n",
       "    </tr>\n",
       "  </tbody>\n",
       "</table>\n",
       "</div>"
      ],
      "text/plain": [
       "       director_name                                movie_title\n",
       "0      James Cameron                                    Avatar \n",
       "1     Gore Verbinski  Pirates of the Caribbean: At World's End \n",
       "2         Sam Mendes                                   Spectre \n",
       "3  Christopher Nolan                     The Dark Knight Rises \n",
       "5     Andrew Stanton                               John Carter "
      ]
     },
     "execution_count": 12,
     "metadata": {},
     "output_type": "execute_result"
    }
   ],
   "source": [
    "df_movies[['director_name', 'movie_title']].head()"
   ]
  },
  {
   "cell_type": "markdown",
   "metadata": {},
   "source": [
    "### Select columns by their data types\n",
    "\n",
    "use the select_dtypes() method"
   ]
  },
  {
   "cell_type": "code",
   "execution_count": 13,
   "metadata": {},
   "outputs": [
    {
     "data": {
      "text/html": [
       "<div>\n",
       "<table border=\"1\" class=\"dataframe\">\n",
       "  <thead>\n",
       "    <tr style=\"text-align: right;\">\n",
       "      <th></th>\n",
       "      <th>color</th>\n",
       "      <th>director_name</th>\n",
       "      <th>actor_2_name</th>\n",
       "      <th>genres</th>\n",
       "      <th>actor_1_name</th>\n",
       "      <th>movie_title</th>\n",
       "      <th>actor_3_name</th>\n",
       "      <th>plot_keywords</th>\n",
       "      <th>movie_imdb_link</th>\n",
       "      <th>language</th>\n",
       "      <th>country</th>\n",
       "      <th>content_rating</th>\n",
       "    </tr>\n",
       "  </thead>\n",
       "  <tbody>\n",
       "    <tr>\n",
       "      <th>0</th>\n",
       "      <td>Color</td>\n",
       "      <td>James Cameron</td>\n",
       "      <td>Joel David Moore</td>\n",
       "      <td>Action|Adventure|Fantasy|Sci-Fi</td>\n",
       "      <td>CCH Pounder</td>\n",
       "      <td>Avatar</td>\n",
       "      <td>Wes Studi</td>\n",
       "      <td>avatar|future|marine|native|paraplegic</td>\n",
       "      <td>http://www.imdb.com/title/tt0499549/?ref_=fn_t...</td>\n",
       "      <td>English</td>\n",
       "      <td>USA</td>\n",
       "      <td>PG-13</td>\n",
       "    </tr>\n",
       "    <tr>\n",
       "      <th>1</th>\n",
       "      <td>Color</td>\n",
       "      <td>Gore Verbinski</td>\n",
       "      <td>Orlando Bloom</td>\n",
       "      <td>Action|Adventure|Fantasy</td>\n",
       "      <td>Johnny Depp</td>\n",
       "      <td>Pirates of the Caribbean: At World's End</td>\n",
       "      <td>Jack Davenport</td>\n",
       "      <td>goddess|marriage ceremony|marriage proposal|pi...</td>\n",
       "      <td>http://www.imdb.com/title/tt0449088/?ref_=fn_t...</td>\n",
       "      <td>English</td>\n",
       "      <td>USA</td>\n",
       "      <td>PG-13</td>\n",
       "    </tr>\n",
       "    <tr>\n",
       "      <th>2</th>\n",
       "      <td>Color</td>\n",
       "      <td>Sam Mendes</td>\n",
       "      <td>Rory Kinnear</td>\n",
       "      <td>Action|Adventure|Thriller</td>\n",
       "      <td>Christoph Waltz</td>\n",
       "      <td>Spectre</td>\n",
       "      <td>Stephanie Sigman</td>\n",
       "      <td>bomb|espionage|sequel|spy|terrorist</td>\n",
       "      <td>http://www.imdb.com/title/tt2379713/?ref_=fn_t...</td>\n",
       "      <td>English</td>\n",
       "      <td>UK</td>\n",
       "      <td>PG-13</td>\n",
       "    </tr>\n",
       "    <tr>\n",
       "      <th>3</th>\n",
       "      <td>Color</td>\n",
       "      <td>Christopher Nolan</td>\n",
       "      <td>Christian Bale</td>\n",
       "      <td>Action|Thriller</td>\n",
       "      <td>Tom Hardy</td>\n",
       "      <td>The Dark Knight Rises</td>\n",
       "      <td>Joseph Gordon-Levitt</td>\n",
       "      <td>deception|imprisonment|lawlessness|police offi...</td>\n",
       "      <td>http://www.imdb.com/title/tt1345836/?ref_=fn_t...</td>\n",
       "      <td>English</td>\n",
       "      <td>USA</td>\n",
       "      <td>PG-13</td>\n",
       "    </tr>\n",
       "    <tr>\n",
       "      <th>5</th>\n",
       "      <td>Color</td>\n",
       "      <td>Andrew Stanton</td>\n",
       "      <td>Samantha Morton</td>\n",
       "      <td>Action|Adventure|Sci-Fi</td>\n",
       "      <td>Daryl Sabara</td>\n",
       "      <td>John Carter</td>\n",
       "      <td>Polly Walker</td>\n",
       "      <td>alien|american civil war|male nipple|mars|prin...</td>\n",
       "      <td>http://www.imdb.com/title/tt0401729/?ref_=fn_t...</td>\n",
       "      <td>English</td>\n",
       "      <td>USA</td>\n",
       "      <td>PG-13</td>\n",
       "    </tr>\n",
       "  </tbody>\n",
       "</table>\n",
       "</div>"
      ],
      "text/plain": [
       "   color      director_name      actor_2_name  \\\n",
       "0  Color      James Cameron  Joel David Moore   \n",
       "1  Color     Gore Verbinski     Orlando Bloom   \n",
       "2  Color         Sam Mendes      Rory Kinnear   \n",
       "3  Color  Christopher Nolan    Christian Bale   \n",
       "5  Color     Andrew Stanton   Samantha Morton   \n",
       "\n",
       "                            genres     actor_1_name  \\\n",
       "0  Action|Adventure|Fantasy|Sci-Fi      CCH Pounder   \n",
       "1         Action|Adventure|Fantasy      Johnny Depp   \n",
       "2        Action|Adventure|Thriller  Christoph Waltz   \n",
       "3                  Action|Thriller        Tom Hardy   \n",
       "5          Action|Adventure|Sci-Fi     Daryl Sabara   \n",
       "\n",
       "                                 movie_title          actor_3_name  \\\n",
       "0                                    Avatar              Wes Studi   \n",
       "1  Pirates of the Caribbean: At World's End         Jack Davenport   \n",
       "2                                   Spectre       Stephanie Sigman   \n",
       "3                     The Dark Knight Rises   Joseph Gordon-Levitt   \n",
       "5                               John Carter           Polly Walker   \n",
       "\n",
       "                                       plot_keywords  \\\n",
       "0             avatar|future|marine|native|paraplegic   \n",
       "1  goddess|marriage ceremony|marriage proposal|pi...   \n",
       "2                bomb|espionage|sequel|spy|terrorist   \n",
       "3  deception|imprisonment|lawlessness|police offi...   \n",
       "5  alien|american civil war|male nipple|mars|prin...   \n",
       "\n",
       "                                     movie_imdb_link language country  \\\n",
       "0  http://www.imdb.com/title/tt0499549/?ref_=fn_t...  English     USA   \n",
       "1  http://www.imdb.com/title/tt0449088/?ref_=fn_t...  English     USA   \n",
       "2  http://www.imdb.com/title/tt2379713/?ref_=fn_t...  English      UK   \n",
       "3  http://www.imdb.com/title/tt1345836/?ref_=fn_t...  English     USA   \n",
       "5  http://www.imdb.com/title/tt0401729/?ref_=fn_t...  English     USA   \n",
       "\n",
       "  content_rating  \n",
       "0          PG-13  \n",
       "1          PG-13  \n",
       "2          PG-13  \n",
       "3          PG-13  \n",
       "5          PG-13  "
      ]
     },
     "execution_count": 13,
     "metadata": {},
     "output_type": "execute_result"
    }
   ],
   "source": [
    "df_movies.select_dtypes(['object']).head()"
   ]
  },
  {
   "cell_type": "code",
   "execution_count": 14,
   "metadata": {
    "scrolled": true
   },
   "outputs": [
    {
     "data": {
      "text/html": [
       "<div>\n",
       "<table border=\"1\" class=\"dataframe\">\n",
       "  <thead>\n",
       "    <tr style=\"text-align: right;\">\n",
       "      <th></th>\n",
       "      <th>num_critic_for_reviews</th>\n",
       "      <th>duration</th>\n",
       "      <th>director_facebook_likes</th>\n",
       "      <th>actor_3_facebook_likes</th>\n",
       "      <th>actor_1_facebook_likes</th>\n",
       "      <th>gross</th>\n",
       "      <th>num_voted_users</th>\n",
       "      <th>cast_total_facebook_likes</th>\n",
       "      <th>facenumber_in_poster</th>\n",
       "      <th>num_user_for_reviews</th>\n",
       "      <th>budget</th>\n",
       "      <th>title_year</th>\n",
       "      <th>actor_2_facebook_likes</th>\n",
       "      <th>imdb_score</th>\n",
       "      <th>aspect_ratio</th>\n",
       "      <th>movie_facebook_likes</th>\n",
       "    </tr>\n",
       "  </thead>\n",
       "  <tbody>\n",
       "    <tr>\n",
       "      <th>0</th>\n",
       "      <td>723.0</td>\n",
       "      <td>178.0</td>\n",
       "      <td>0.0</td>\n",
       "      <td>855.0</td>\n",
       "      <td>1000.0</td>\n",
       "      <td>760505847.0</td>\n",
       "      <td>886204</td>\n",
       "      <td>4834</td>\n",
       "      <td>0.0</td>\n",
       "      <td>3054.0</td>\n",
       "      <td>237000000.0</td>\n",
       "      <td>2009.0</td>\n",
       "      <td>936.0</td>\n",
       "      <td>7.9</td>\n",
       "      <td>1.78</td>\n",
       "      <td>33000</td>\n",
       "    </tr>\n",
       "    <tr>\n",
       "      <th>1</th>\n",
       "      <td>302.0</td>\n",
       "      <td>169.0</td>\n",
       "      <td>563.0</td>\n",
       "      <td>1000.0</td>\n",
       "      <td>40000.0</td>\n",
       "      <td>309404152.0</td>\n",
       "      <td>471220</td>\n",
       "      <td>48350</td>\n",
       "      <td>0.0</td>\n",
       "      <td>1238.0</td>\n",
       "      <td>300000000.0</td>\n",
       "      <td>2007.0</td>\n",
       "      <td>5000.0</td>\n",
       "      <td>7.1</td>\n",
       "      <td>2.35</td>\n",
       "      <td>0</td>\n",
       "    </tr>\n",
       "    <tr>\n",
       "      <th>2</th>\n",
       "      <td>602.0</td>\n",
       "      <td>148.0</td>\n",
       "      <td>0.0</td>\n",
       "      <td>161.0</td>\n",
       "      <td>11000.0</td>\n",
       "      <td>200074175.0</td>\n",
       "      <td>275868</td>\n",
       "      <td>11700</td>\n",
       "      <td>1.0</td>\n",
       "      <td>994.0</td>\n",
       "      <td>245000000.0</td>\n",
       "      <td>2015.0</td>\n",
       "      <td>393.0</td>\n",
       "      <td>6.8</td>\n",
       "      <td>2.35</td>\n",
       "      <td>85000</td>\n",
       "    </tr>\n",
       "    <tr>\n",
       "      <th>3</th>\n",
       "      <td>813.0</td>\n",
       "      <td>164.0</td>\n",
       "      <td>22000.0</td>\n",
       "      <td>23000.0</td>\n",
       "      <td>27000.0</td>\n",
       "      <td>448130642.0</td>\n",
       "      <td>1144337</td>\n",
       "      <td>106759</td>\n",
       "      <td>0.0</td>\n",
       "      <td>2701.0</td>\n",
       "      <td>250000000.0</td>\n",
       "      <td>2012.0</td>\n",
       "      <td>23000.0</td>\n",
       "      <td>8.5</td>\n",
       "      <td>2.35</td>\n",
       "      <td>164000</td>\n",
       "    </tr>\n",
       "    <tr>\n",
       "      <th>5</th>\n",
       "      <td>462.0</td>\n",
       "      <td>132.0</td>\n",
       "      <td>475.0</td>\n",
       "      <td>530.0</td>\n",
       "      <td>640.0</td>\n",
       "      <td>73058679.0</td>\n",
       "      <td>212204</td>\n",
       "      <td>1873</td>\n",
       "      <td>1.0</td>\n",
       "      <td>738.0</td>\n",
       "      <td>263700000.0</td>\n",
       "      <td>2012.0</td>\n",
       "      <td>632.0</td>\n",
       "      <td>6.6</td>\n",
       "      <td>2.35</td>\n",
       "      <td>24000</td>\n",
       "    </tr>\n",
       "  </tbody>\n",
       "</table>\n",
       "</div>"
      ],
      "text/plain": [
       "   num_critic_for_reviews  duration  director_facebook_likes  \\\n",
       "0                   723.0     178.0                      0.0   \n",
       "1                   302.0     169.0                    563.0   \n",
       "2                   602.0     148.0                      0.0   \n",
       "3                   813.0     164.0                  22000.0   \n",
       "5                   462.0     132.0                    475.0   \n",
       "\n",
       "   actor_3_facebook_likes  actor_1_facebook_likes        gross  \\\n",
       "0                   855.0                  1000.0  760505847.0   \n",
       "1                  1000.0                 40000.0  309404152.0   \n",
       "2                   161.0                 11000.0  200074175.0   \n",
       "3                 23000.0                 27000.0  448130642.0   \n",
       "5                   530.0                   640.0   73058679.0   \n",
       "\n",
       "   num_voted_users  cast_total_facebook_likes  facenumber_in_poster  \\\n",
       "0           886204                       4834                   0.0   \n",
       "1           471220                      48350                   0.0   \n",
       "2           275868                      11700                   1.0   \n",
       "3          1144337                     106759                   0.0   \n",
       "5           212204                       1873                   1.0   \n",
       "\n",
       "   num_user_for_reviews       budget  title_year  actor_2_facebook_likes  \\\n",
       "0                3054.0  237000000.0      2009.0                   936.0   \n",
       "1                1238.0  300000000.0      2007.0                  5000.0   \n",
       "2                 994.0  245000000.0      2015.0                   393.0   \n",
       "3                2701.0  250000000.0      2012.0                 23000.0   \n",
       "5                 738.0  263700000.0      2012.0                   632.0   \n",
       "\n",
       "   imdb_score  aspect_ratio  movie_facebook_likes  \n",
       "0         7.9          1.78                 33000  \n",
       "1         7.1          2.35                     0  \n",
       "2         6.8          2.35                 85000  \n",
       "3         8.5          2.35                164000  \n",
       "5         6.6          2.35                 24000  "
      ]
     },
     "execution_count": 14,
     "metadata": {},
     "output_type": "execute_result"
    }
   ],
   "source": [
    "df_movies.select_dtypes(['float', 'int']).head()"
   ]
  },
  {
   "cell_type": "markdown",
   "metadata": {
    "collapsed": true
   },
   "source": [
    "### Filtering rows\n",
    "\n",
    "To filter rows we again will use the indexing operator (square brackets).\n",
    "\n",
    "The basic form for filtering is: DataFrame[expression]\n",
    "\n",
    "Lets explore the films directed by Christopher Nolan"
   ]
  },
  {
   "cell_type": "code",
   "execution_count": 15,
   "metadata": {},
   "outputs": [
    {
     "data": {
      "text/html": [
       "<div>\n",
       "<table border=\"1\" class=\"dataframe\">\n",
       "  <thead>\n",
       "    <tr style=\"text-align: right;\">\n",
       "      <th></th>\n",
       "      <th>color</th>\n",
       "      <th>director_name</th>\n",
       "      <th>num_critic_for_reviews</th>\n",
       "      <th>duration</th>\n",
       "      <th>director_facebook_likes</th>\n",
       "      <th>actor_3_facebook_likes</th>\n",
       "      <th>actor_2_name</th>\n",
       "      <th>actor_1_facebook_likes</th>\n",
       "      <th>gross</th>\n",
       "      <th>genres</th>\n",
       "      <th>...</th>\n",
       "      <th>num_user_for_reviews</th>\n",
       "      <th>language</th>\n",
       "      <th>country</th>\n",
       "      <th>content_rating</th>\n",
       "      <th>budget</th>\n",
       "      <th>title_year</th>\n",
       "      <th>actor_2_facebook_likes</th>\n",
       "      <th>imdb_score</th>\n",
       "      <th>aspect_ratio</th>\n",
       "      <th>movie_facebook_likes</th>\n",
       "    </tr>\n",
       "  </thead>\n",
       "  <tbody>\n",
       "    <tr>\n",
       "      <th>3</th>\n",
       "      <td>Color</td>\n",
       "      <td>Christopher Nolan</td>\n",
       "      <td>813.0</td>\n",
       "      <td>164.0</td>\n",
       "      <td>22000.0</td>\n",
       "      <td>23000.0</td>\n",
       "      <td>Christian Bale</td>\n",
       "      <td>27000.0</td>\n",
       "      <td>448130642.0</td>\n",
       "      <td>Action|Thriller</td>\n",
       "      <td>...</td>\n",
       "      <td>2701.0</td>\n",
       "      <td>English</td>\n",
       "      <td>USA</td>\n",
       "      <td>PG-13</td>\n",
       "      <td>250000000.0</td>\n",
       "      <td>2012.0</td>\n",
       "      <td>23000.0</td>\n",
       "      <td>8.5</td>\n",
       "      <td>2.35</td>\n",
       "      <td>164000</td>\n",
       "    </tr>\n",
       "    <tr>\n",
       "      <th>66</th>\n",
       "      <td>Color</td>\n",
       "      <td>Christopher Nolan</td>\n",
       "      <td>645.0</td>\n",
       "      <td>152.0</td>\n",
       "      <td>22000.0</td>\n",
       "      <td>11000.0</td>\n",
       "      <td>Heath Ledger</td>\n",
       "      <td>23000.0</td>\n",
       "      <td>533316061.0</td>\n",
       "      <td>Action|Crime|Drama|Thriller</td>\n",
       "      <td>...</td>\n",
       "      <td>4667.0</td>\n",
       "      <td>English</td>\n",
       "      <td>USA</td>\n",
       "      <td>PG-13</td>\n",
       "      <td>185000000.0</td>\n",
       "      <td>2008.0</td>\n",
       "      <td>13000.0</td>\n",
       "      <td>9.0</td>\n",
       "      <td>2.35</td>\n",
       "      <td>37000</td>\n",
       "    </tr>\n",
       "    <tr>\n",
       "      <th>96</th>\n",
       "      <td>Color</td>\n",
       "      <td>Christopher Nolan</td>\n",
       "      <td>712.0</td>\n",
       "      <td>169.0</td>\n",
       "      <td>22000.0</td>\n",
       "      <td>6000.0</td>\n",
       "      <td>Anne Hathaway</td>\n",
       "      <td>11000.0</td>\n",
       "      <td>187991439.0</td>\n",
       "      <td>Adventure|Drama|Sci-Fi</td>\n",
       "      <td>...</td>\n",
       "      <td>2725.0</td>\n",
       "      <td>English</td>\n",
       "      <td>USA</td>\n",
       "      <td>PG-13</td>\n",
       "      <td>165000000.0</td>\n",
       "      <td>2014.0</td>\n",
       "      <td>11000.0</td>\n",
       "      <td>8.6</td>\n",
       "      <td>2.35</td>\n",
       "      <td>349000</td>\n",
       "    </tr>\n",
       "    <tr>\n",
       "      <th>97</th>\n",
       "      <td>Color</td>\n",
       "      <td>Christopher Nolan</td>\n",
       "      <td>642.0</td>\n",
       "      <td>148.0</td>\n",
       "      <td>22000.0</td>\n",
       "      <td>23000.0</td>\n",
       "      <td>Tom Hardy</td>\n",
       "      <td>29000.0</td>\n",
       "      <td>292568851.0</td>\n",
       "      <td>Action|Adventure|Sci-Fi|Thriller</td>\n",
       "      <td>...</td>\n",
       "      <td>2803.0</td>\n",
       "      <td>English</td>\n",
       "      <td>USA</td>\n",
       "      <td>PG-13</td>\n",
       "      <td>160000000.0</td>\n",
       "      <td>2010.0</td>\n",
       "      <td>27000.0</td>\n",
       "      <td>8.8</td>\n",
       "      <td>2.35</td>\n",
       "      <td>175000</td>\n",
       "    </tr>\n",
       "    <tr>\n",
       "      <th>120</th>\n",
       "      <td>Color</td>\n",
       "      <td>Christopher Nolan</td>\n",
       "      <td>478.0</td>\n",
       "      <td>128.0</td>\n",
       "      <td>22000.0</td>\n",
       "      <td>11000.0</td>\n",
       "      <td>Liam Neeson</td>\n",
       "      <td>23000.0</td>\n",
       "      <td>205343774.0</td>\n",
       "      <td>Action|Adventure</td>\n",
       "      <td>...</td>\n",
       "      <td>2685.0</td>\n",
       "      <td>English</td>\n",
       "      <td>USA</td>\n",
       "      <td>PG-13</td>\n",
       "      <td>150000000.0</td>\n",
       "      <td>2005.0</td>\n",
       "      <td>14000.0</td>\n",
       "      <td>8.3</td>\n",
       "      <td>2.35</td>\n",
       "      <td>15000</td>\n",
       "    </tr>\n",
       "    <tr>\n",
       "      <th>1066</th>\n",
       "      <td>Color</td>\n",
       "      <td>Christopher Nolan</td>\n",
       "      <td>185.0</td>\n",
       "      <td>118.0</td>\n",
       "      <td>22000.0</td>\n",
       "      <td>319.0</td>\n",
       "      <td>Maura Tierney</td>\n",
       "      <td>14000.0</td>\n",
       "      <td>67263182.0</td>\n",
       "      <td>Drama|Mystery|Thriller</td>\n",
       "      <td>...</td>\n",
       "      <td>651.0</td>\n",
       "      <td>English</td>\n",
       "      <td>USA</td>\n",
       "      <td>R</td>\n",
       "      <td>46000000.0</td>\n",
       "      <td>2002.0</td>\n",
       "      <td>509.0</td>\n",
       "      <td>7.2</td>\n",
       "      <td>2.35</td>\n",
       "      <td>0</td>\n",
       "    </tr>\n",
       "    <tr>\n",
       "      <th>1233</th>\n",
       "      <td>Color</td>\n",
       "      <td>Christopher Nolan</td>\n",
       "      <td>341.0</td>\n",
       "      <td>130.0</td>\n",
       "      <td>22000.0</td>\n",
       "      <td>19000.0</td>\n",
       "      <td>Hugh Jackman</td>\n",
       "      <td>23000.0</td>\n",
       "      <td>53082743.0</td>\n",
       "      <td>Drama|Mystery|Sci-Fi|Thriller</td>\n",
       "      <td>...</td>\n",
       "      <td>1100.0</td>\n",
       "      <td>English</td>\n",
       "      <td>USA</td>\n",
       "      <td>PG-13</td>\n",
       "      <td>40000000.0</td>\n",
       "      <td>2006.0</td>\n",
       "      <td>20000.0</td>\n",
       "      <td>8.5</td>\n",
       "      <td>2.35</td>\n",
       "      <td>49000</td>\n",
       "    </tr>\n",
       "    <tr>\n",
       "      <th>3716</th>\n",
       "      <td>Black and White</td>\n",
       "      <td>Christopher Nolan</td>\n",
       "      <td>274.0</td>\n",
       "      <td>113.0</td>\n",
       "      <td>22000.0</td>\n",
       "      <td>379.0</td>\n",
       "      <td>Thomas Lennon</td>\n",
       "      <td>716.0</td>\n",
       "      <td>25530884.0</td>\n",
       "      <td>Mystery|Thriller</td>\n",
       "      <td>...</td>\n",
       "      <td>2067.0</td>\n",
       "      <td>English</td>\n",
       "      <td>USA</td>\n",
       "      <td>R</td>\n",
       "      <td>9000000.0</td>\n",
       "      <td>2000.0</td>\n",
       "      <td>651.0</td>\n",
       "      <td>8.5</td>\n",
       "      <td>2.35</td>\n",
       "      <td>40000</td>\n",
       "    </tr>\n",
       "  </tbody>\n",
       "</table>\n",
       "<p>8 rows × 28 columns</p>\n",
       "</div>"
      ],
      "text/plain": [
       "                 color      director_name  num_critic_for_reviews  duration  \\\n",
       "3                Color  Christopher Nolan                   813.0     164.0   \n",
       "66               Color  Christopher Nolan                   645.0     152.0   \n",
       "96               Color  Christopher Nolan                   712.0     169.0   \n",
       "97               Color  Christopher Nolan                   642.0     148.0   \n",
       "120              Color  Christopher Nolan                   478.0     128.0   \n",
       "1066             Color  Christopher Nolan                   185.0     118.0   \n",
       "1233             Color  Christopher Nolan                   341.0     130.0   \n",
       "3716   Black and White  Christopher Nolan                   274.0     113.0   \n",
       "\n",
       "      director_facebook_likes  actor_3_facebook_likes    actor_2_name  \\\n",
       "3                     22000.0                 23000.0  Christian Bale   \n",
       "66                    22000.0                 11000.0    Heath Ledger   \n",
       "96                    22000.0                  6000.0   Anne Hathaway   \n",
       "97                    22000.0                 23000.0       Tom Hardy   \n",
       "120                   22000.0                 11000.0     Liam Neeson   \n",
       "1066                  22000.0                   319.0   Maura Tierney   \n",
       "1233                  22000.0                 19000.0    Hugh Jackman   \n",
       "3716                  22000.0                   379.0   Thomas Lennon   \n",
       "\n",
       "      actor_1_facebook_likes        gross                            genres  \\\n",
       "3                    27000.0  448130642.0                   Action|Thriller   \n",
       "66                   23000.0  533316061.0       Action|Crime|Drama|Thriller   \n",
       "96                   11000.0  187991439.0            Adventure|Drama|Sci-Fi   \n",
       "97                   29000.0  292568851.0  Action|Adventure|Sci-Fi|Thriller   \n",
       "120                  23000.0  205343774.0                  Action|Adventure   \n",
       "1066                 14000.0   67263182.0            Drama|Mystery|Thriller   \n",
       "1233                 23000.0   53082743.0     Drama|Mystery|Sci-Fi|Thriller   \n",
       "3716                   716.0   25530884.0                  Mystery|Thriller   \n",
       "\n",
       "             ...          num_user_for_reviews language  country  \\\n",
       "3            ...                        2701.0  English      USA   \n",
       "66           ...                        4667.0  English      USA   \n",
       "96           ...                        2725.0  English      USA   \n",
       "97           ...                        2803.0  English      USA   \n",
       "120          ...                        2685.0  English      USA   \n",
       "1066         ...                         651.0  English      USA   \n",
       "1233         ...                        1100.0  English      USA   \n",
       "3716         ...                        2067.0  English      USA   \n",
       "\n",
       "      content_rating       budget  title_year actor_2_facebook_likes  \\\n",
       "3              PG-13  250000000.0      2012.0                23000.0   \n",
       "66             PG-13  185000000.0      2008.0                13000.0   \n",
       "96             PG-13  165000000.0      2014.0                11000.0   \n",
       "97             PG-13  160000000.0      2010.0                27000.0   \n",
       "120            PG-13  150000000.0      2005.0                14000.0   \n",
       "1066               R   46000000.0      2002.0                  509.0   \n",
       "1233           PG-13   40000000.0      2006.0                20000.0   \n",
       "3716               R    9000000.0      2000.0                  651.0   \n",
       "\n",
       "     imdb_score  aspect_ratio movie_facebook_likes  \n",
       "3           8.5          2.35               164000  \n",
       "66          9.0          2.35                37000  \n",
       "96          8.6          2.35               349000  \n",
       "97          8.8          2.35               175000  \n",
       "120         8.3          2.35                15000  \n",
       "1066        7.2          2.35                    0  \n",
       "1233        8.5          2.35                49000  \n",
       "3716        8.5          2.35                40000  \n",
       "\n",
       "[8 rows x 28 columns]"
      ]
     },
     "execution_count": 15,
     "metadata": {},
     "output_type": "execute_result"
    }
   ],
   "source": [
    "# walkthrough\n",
    "df_movies[df_movies['director_name'] == 'Christopher Nolan']"
   ]
  },
  {
   "cell_type": "markdown",
   "metadata": {
    "collapsed": true
   },
   "source": [
    "How many films were directed by Christopher Nolan?\n",
    "\n",
    "We can use both the ```shape``` attribute or len to find out"
   ]
  },
  {
   "cell_type": "code",
   "execution_count": 16,
   "metadata": {},
   "outputs": [
    {
     "name": "stdout",
     "output_type": "stream",
     "text": [
      "8\n",
      "8\n"
     ]
    }
   ],
   "source": [
    "df_nolan = df_movies[df_movies['director_name'] == 'Christopher Nolan']\n",
    "\n",
    "print(df_nolan.shape[0]) # shape[0] is the number of rows, while shape[1] is the number of columns\n",
    "print(len(df_nolan))"
   ]
  },
  {
   "cell_type": "markdown",
   "metadata": {
    "collapsed": true
   },
   "source": [
    "Lets filter rows and columns at the same time.\n",
    "\n",
    "Find the movie titles and years of all the films directed by Christopher Nolan"
   ]
  },
  {
   "cell_type": "code",
   "execution_count": 17,
   "metadata": {},
   "outputs": [
    {
     "data": {
      "text/html": [
       "<div>\n",
       "<table border=\"1\" class=\"dataframe\">\n",
       "  <thead>\n",
       "    <tr style=\"text-align: right;\">\n",
       "      <th></th>\n",
       "      <th>movie_title</th>\n",
       "      <th>title_year</th>\n",
       "    </tr>\n",
       "  </thead>\n",
       "  <tbody>\n",
       "    <tr>\n",
       "      <th>3</th>\n",
       "      <td>The Dark Knight Rises</td>\n",
       "      <td>2012.0</td>\n",
       "    </tr>\n",
       "    <tr>\n",
       "      <th>66</th>\n",
       "      <td>The Dark Knight</td>\n",
       "      <td>2008.0</td>\n",
       "    </tr>\n",
       "    <tr>\n",
       "      <th>96</th>\n",
       "      <td>Interstellar</td>\n",
       "      <td>2014.0</td>\n",
       "    </tr>\n",
       "    <tr>\n",
       "      <th>97</th>\n",
       "      <td>Inception</td>\n",
       "      <td>2010.0</td>\n",
       "    </tr>\n",
       "    <tr>\n",
       "      <th>120</th>\n",
       "      <td>Batman Begins</td>\n",
       "      <td>2005.0</td>\n",
       "    </tr>\n",
       "    <tr>\n",
       "      <th>1066</th>\n",
       "      <td>Insomnia</td>\n",
       "      <td>2002.0</td>\n",
       "    </tr>\n",
       "    <tr>\n",
       "      <th>1233</th>\n",
       "      <td>The Prestige</td>\n",
       "      <td>2006.0</td>\n",
       "    </tr>\n",
       "    <tr>\n",
       "      <th>3716</th>\n",
       "      <td>Memento</td>\n",
       "      <td>2000.0</td>\n",
       "    </tr>\n",
       "  </tbody>\n",
       "</table>\n",
       "</div>"
      ],
      "text/plain": [
       "                 movie_title  title_year\n",
       "3     The Dark Knight Rises       2012.0\n",
       "66          The Dark Knight       2008.0\n",
       "96             Interstellar       2014.0\n",
       "97                Inception       2010.0\n",
       "120           Batman Begins       2005.0\n",
       "1066               Insomnia       2002.0\n",
       "1233           The Prestige       2006.0\n",
       "3716                Memento       2000.0"
      ]
     },
     "execution_count": 17,
     "metadata": {},
     "output_type": "execute_result"
    }
   ],
   "source": [
    "df_nolan = df_movies[df_movies['director_name'] == 'Christopher Nolan'] # filter movies directed by Christopher Nolan\n",
    "\n",
    "df_nolan[['movie_title', 'title_year']] # Select the movie_title and title_year columns"
   ]
  },
  {
   "cell_type": "markdown",
   "metadata": {},
   "source": [
    "To join multiple expressions:\n",
    "* & (and)\n",
    "* | (or)"
   ]
  },
  {
   "cell_type": "markdown",
   "metadata": {},
   "source": [
    "How many movies are between 150 and 200 minutes long?"
   ]
  },
  {
   "cell_type": "code",
   "execution_count": 20,
   "metadata": {},
   "outputs": [
    {
     "data": {
      "text/plain": [
       "132"
      ]
     },
     "execution_count": 20,
     "metadata": {},
     "output_type": "execute_result"
    }
   ],
   "source": [
    "df_medium_length = df_movies[(df_movies['duration'] > 150) & (df_movies['duration'] < 200)]\n",
    "len(df_medium_length)"
   ]
  },
  {
   "cell_type": "markdown",
   "metadata": {
    "collapsed": true
   },
   "source": [
    "How many movies were released in either the USA or Canada?"
   ]
  },
  {
   "cell_type": "code",
   "execution_count": 22,
   "metadata": {},
   "outputs": [
    {
     "data": {
      "text/plain": [
       "3046"
      ]
     },
     "execution_count": 22,
     "metadata": {},
     "output_type": "execute_result"
    }
   ],
   "source": [
    "df_USA_Canada = df_movies[(df_movies['country'] == 'USA') | (df_movies['country'] == 'Canada')]\n",
    "len(df_USA_Canada)"
   ]
  },
  {
   "cell_type": "markdown",
   "metadata": {
    "collapsed": true
   },
   "source": [
    "### Sorting Values\n",
    "\n",
    "To sort a DataFrame we use the sort_values() method"
   ]
  },
  {
   "cell_type": "code",
   "execution_count": 17,
   "metadata": {},
   "outputs": [],
   "source": [
    "# .sort_values() on ''duration''"
   ]
  },
  {
   "cell_type": "markdown",
   "metadata": {
    "collapsed": true
   },
   "source": [
    "## Exercise 3.1"
   ]
  },
  {
   "cell_type": "markdown",
   "metadata": {},
   "source": [
    "Find all the movies where the main actor (`actor_1_name`) is either Tom Hardy or Hugh Jackman"
   ]
  },
  {
   "cell_type": "code",
   "execution_count": null,
   "metadata": {},
   "outputs": [],
   "source": []
  },
  {
   "cell_type": "markdown",
   "metadata": {
    "collapsed": true
   },
   "source": [
    "## Exercise 3.2"
   ]
  },
  {
   "cell_type": "markdown",
   "metadata": {
    "collapsed": true
   },
   "source": [
    "How many movies were released between 2000 and 2005 (inclusive) ?"
   ]
  },
  {
   "cell_type": "code",
   "execution_count": null,
   "metadata": {},
   "outputs": [],
   "source": []
  },
  {
   "cell_type": "markdown",
   "metadata": {
    "collapsed": true
   },
   "source": [
    "## Exercise 3.3"
   ]
  },
  {
   "cell_type": "markdown",
   "metadata": {
    "collapsed": true
   },
   "source": [
    "Show the title (`title_name`), director (`director_name`) and imdb score (`imdb_score`)\n",
    "of the top 10 movies based on `imdb_score`"
   ]
  },
  {
   "cell_type": "code",
   "execution_count": null,
   "metadata": {},
   "outputs": [],
   "source": []
  },
  {
   "cell_type": "markdown",
   "metadata": {},
   "source": [
    "### Note: Data science is all about asking the right questions and then answering them.  We will try to answer some simple questions about the dataset"
   ]
  },
  {
   "cell_type": "markdown",
   "metadata": {},
   "source": [
    "# 4. Joins and aggregation <a class=\"anchor\" id=\"agg\"></a>"
   ]
  },
  {
   "cell_type": "markdown",
   "metadata": {},
   "source": [
    "### Exercise 4.1: Are there directors are also lead actors in movies. \n",
    "Right now we only care about the name and year of the movies they directed and acted."
   ]
  },
  {
   "cell_type": "code",
   "execution_count": 18,
   "metadata": {},
   "outputs": [],
   "source": [
    "# Make a dataframe with ['movie_title', 'title_year'] indexed by 'director_name'\n",
    "# .set_index()\n",
    "# .ix[?, ?]\n"
   ]
  },
  {
   "cell_type": "code",
   "execution_count": 19,
   "metadata": {},
   "outputs": [],
   "source": [
    "# Make a dataframe with ['movie_title', 'title_year'] indexed by 'actor_1_name'\n",
    "# .set_index()\n",
    "# .ix[?, ?]\n"
   ]
  },
  {
   "cell_type": "code",
   "execution_count": 20,
   "metadata": {},
   "outputs": [],
   "source": [
    "# Inner join the two dataframes we prepared\n",
    "# .join()\n"
   ]
  },
  {
   "cell_type": "markdown",
   "metadata": {},
   "source": [
    "### Exercise 4.2:  Just how many of these actor/director are there? Did they start out acting or directing?"
   ]
  },
  {
   "cell_type": "code",
   "execution_count": 21,
   "metadata": {},
   "outputs": [],
   "source": [
    "# len()\n",
    "# .groupby()\n"
   ]
  },
  {
   "cell_type": "markdown",
   "metadata": {},
   "source": [
    "Let's look at one acting/directing movie pair for each person"
   ]
  },
  {
   "cell_type": "code",
   "execution_count": 22,
   "metadata": {},
   "outputs": [],
   "source": [
    "# .first()\n"
   ]
  },
  {
   "cell_type": "code",
   "execution_count": 23,
   "metadata": {},
   "outputs": [],
   "source": [
    "# .mean()\n"
   ]
  },
  {
   "cell_type": "markdown",
   "metadata": {},
   "source": [
    "People say directing is more prestigeous than acting. Do we see peole moving from acting to directing?"
   ]
  },
  {
   "cell_type": "code",
   "execution_count": 25,
   "metadata": {},
   "outputs": [],
   "source": [
    "# df[? > ?]\n",
    "# .shape\n"
   ]
  },
  {
   "cell_type": "markdown",
   "metadata": {},
   "source": [
    "# 5. Visualization <a class=\"anchor\" id=\"viz\"></a>"
   ]
  },
  {
   "cell_type": "markdown",
   "metadata": {},
   "source": [
    "### Exercise 5.1:  Did Rober Downey Jr.'s movie get more and more successful (i.e. 'gross' higher with 'title_year')? Visualize this."
   ]
  },
  {
   "cell_type": "code",
   "execution_count": 26,
   "metadata": {
    "scrolled": true
   },
   "outputs": [],
   "source": [
    "# .sort_values()\n",
    "# .plot()\n"
   ]
  },
  {
   "cell_type": "markdown",
   "metadata": {},
   "source": [
    "### Exercise 5.2:   What's correlated with 'gross'? \n",
    "Some candidates may be ['imdb_score', 'movie_facebook_likes', 'actor_1_facebook_likes', 'director_facebook_likes', 'title_year', 'num_user_for_reviews']"
   ]
  },
  {
   "cell_type": "code",
   "execution_count": 27,
   "metadata": {},
   "outputs": [],
   "source": [
    "# .corr()\n"
   ]
  },
  {
   "cell_type": "code",
   "execution_count": 38,
   "metadata": {},
   "outputs": [],
   "source": [
    "# Let's use seaborn (a visualization library built on top of matplotlib with pretty colours)\n",
    "import seaborn as sns\n",
    "import matplotlib.pyplot as plt"
   ]
  },
  {
   "cell_type": "code",
   "execution_count": 28,
   "metadata": {},
   "outputs": [],
   "source": [
    "# sns.heatmap()\n"
   ]
  },
  {
   "cell_type": "markdown",
   "metadata": {},
   "source": [
    "# 6. Time Series <a class=\"anchor\" id=\"time\"></a>"
   ]
  },
  {
   "cell_type": "code",
   "execution_count": 29,
   "metadata": {},
   "outputs": [],
   "source": [
    "# parse_dates=['title_year']\n"
   ]
  },
  {
   "cell_type": "code",
   "execution_count": 32,
   "metadata": {
    "scrolled": false
   },
   "outputs": [],
   "source": [
    "# ['title_year', 'gross']\n"
   ]
  },
  {
   "cell_type": "code",
   "execution_count": 31,
   "metadata": {
    "scrolled": false
   },
   "outputs": [],
   "source": [
    "# .resample('10AS')\n",
    "# .mean()\n",
    "# .plot(kind='bar', x=df_10_year.index.year)\n"
   ]
  },
  {
   "cell_type": "code",
   "execution_count": 33,
   "metadata": {},
   "outputs": [],
   "source": [
    "# plt.xticks(rotation=90)\n",
    "# sns.violinplot(data=df_after_2000)\n"
   ]
  }
 ],
 "metadata": {
  "kernelspec": {
   "display_name": "Python 2",
   "language": "python",
   "name": "python2"
  },
  "language_info": {
   "codemirror_mode": {
    "name": "ipython",
    "version": 2
   },
   "file_extension": ".py",
   "mimetype": "text/x-python",
   "name": "python",
   "nbconvert_exporter": "python",
   "pygments_lexer": "ipython2",
   "version": "2.7.15"
  }
 },
 "nbformat": 4,
 "nbformat_minor": 2
}
